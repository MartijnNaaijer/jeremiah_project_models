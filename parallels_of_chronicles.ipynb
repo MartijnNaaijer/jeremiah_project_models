{
 "cells": [
  {
   "cell_type": "code",
   "execution_count": null,
   "id": "31b16a14-9468-4d29-97e0-c4395ef17092",
   "metadata": {},
   "outputs": [],
   "source": [
    "import pandas as pd\n",
    "\n",
    "filename = 'Chronicles Parallels.xlsx'"
   ]
  },
  {
   "cell_type": "code",
   "execution_count": null,
   "id": "8a2af104-1598-4084-a631-499256152cb2",
   "metadata": {},
   "outputs": [],
   "source": [
    "df = pd.read_excel(filename)"
   ]
  },
  {
   "cell_type": "code",
   "execution_count": null,
   "id": "2b039f39-47b0-4a9b-b807-b6170acd6c84",
   "metadata": {},
   "outputs": [],
   "source": [
    "df.columns"
   ]
  },
  {
   "cell_type": "code",
   "execution_count": null,
   "id": "6fa0d14d-0a0b-40b9-93ea-9309e2acac37",
   "metadata": {},
   "outputs": [],
   "source": [
    "books_dict = {'Chr': 'Chronicles', 'Kgs': 'Kings', 'Sam': 'Samuel'}"
   ]
  },
  {
   "cell_type": "code",
   "execution_count": null,
   "id": "fea51e35-bca6-4f04-857a-775072c21e86",
   "metadata": {},
   "outputs": [],
   "source": [
    "parallels_dict = {}\n",
    "\n",
    "for idx, (parallel, chron) in enumerate(zip(df.Parallel_Ref, df.Chr_Ref)):\n",
    "    bo_nr_par, book_par, ch_ve_par = parallel.split()\n",
    "    bo_nr_chr, book_chr, ch_ve_chr = chron.split()\n",
    "    book_name_par = books_dict.get(book_par)\n",
    "    book_name_chr = books_dict.get(book_chr)\n",
    "\n",
    "    book_name_par = bo_nr_par + '_' + book_name_par\n",
    "    book_name_chr = bo_nr_chr + '_' + book_name_chr\n",
    "\n",
    "    ve_par, ch_par = ch_ve_par.split(':')\n",
    "    ve_chr, ch_chr = ch_ve_chr.split(':')\n",
    "    ve_par, ch_par = int(ve_par), int(ch_par)\n",
    "    ve_chr, ch_chr = int(ve_chr), int(ch_chr) \n",
    "\n",
    "    parallels_dict[idx] = ((book_name_par, ve_par, ch_par), (book_name_chr, ve_chr, ch_chr))\n",
    "    "
   ]
  },
  {
   "cell_type": "code",
   "execution_count": null,
   "id": "4f9dce7a-4677-404e-8ed0-fa5b4b020779",
   "metadata": {},
   "outputs": [],
   "source": [
    "parallels_dict"
   ]
  }
 ],
 "metadata": {
  "kernelspec": {
   "display_name": "Python 3 (ipykernel)",
   "language": "python",
   "name": "python3"
  },
  "language_info": {
   "codemirror_mode": {
    "name": "ipython",
    "version": 3
   },
   "file_extension": ".py",
   "mimetype": "text/x-python",
   "name": "python",
   "nbconvert_exporter": "python",
   "pygments_lexer": "ipython3",
   "version": "3.12.9"
  }
 },
 "nbformat": 4,
 "nbformat_minor": 5
}
